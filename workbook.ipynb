{
 "cells": [
  {
   "cell_type": "code",
   "execution_count": 2,
   "metadata": {},
   "outputs": [
    {
     "ename": "AttributeError",
     "evalue": "'PAIPostRequests' object has no attribute 'ok'",
     "output_type": "error",
     "traceback": [
      "\u001b[0;31m---------------------------------------------------------------------------\u001b[0m",
      "\u001b[0;31mAttributeError\u001b[0m                            Traceback (most recent call last)",
      "Cell \u001b[0;32mIn[2], line 17\u001b[0m\n\u001b[1;32m     15\u001b[0m text_request\u001b[39m.\u001b[39mtext \u001b[39m=\u001b[39m row \n\u001b[1;32m     16\u001b[0m resp \u001b[39m=\u001b[39m requests\u001b[39m.\u001b[39mprocess_text(text_request)\n\u001b[0;32m---> 17\u001b[0m \u001b[39mif\u001b[39;00m resp\u001b[39m.\u001b[39;49mok:\n\u001b[1;32m     18\u001b[0m     \u001b[39mprint\u001b[39m(resp\u001b[39m.\u001b[39mbody)\n\u001b[1;32m     19\u001b[0m \u001b[39melse\u001b[39;00m:\n",
      "\u001b[0;31mAttributeError\u001b[0m: 'PAIPostRequests' object has no attribute 'ok'"
     ]
    }
   ],
   "source": [
    "from pai_client import PAIClient\n",
    "from pai_requests import requests, request_objects\n",
    "\n",
    "schema = \"http\"\n",
    "host = \"192.168.5.129\"\n",
    "port = \"8080\"\n",
    "\n",
    "client = PAIClient(schema=schema, pai_host=host, port=port)\n",
    "\n",
    "text_request = request_objects.process_text(text=[\"\"])\n",
    "\n",
    "sample_text = [\"I'm in new york\", \"I'm not in New Jersey\", \"My name is adam\"]\n",
    "\n",
    "for row in sample_text:\n",
    "    text_request.text = row \n",
    "    resp = requests.process_text(text_request)\n",
    "    if resp.ok:\n",
    "        print(resp.body)\n",
    "    else:\n",
    "        print(resp.status_code)\n"
   ]
  }
 ],
 "metadata": {
  "kernelspec": {
   "display_name": "deid38",
   "language": "python",
   "name": "python3"
  },
  "language_info": {
   "codemirror_mode": {
    "name": "ipython",
    "version": 3
   },
   "file_extension": ".py",
   "mimetype": "text/x-python",
   "name": "python",
   "nbconvert_exporter": "python",
   "pygments_lexer": "ipython3",
   "version": "3.8.15"
  },
  "orig_nbformat": 4
 },
 "nbformat": 4,
 "nbformat_minor": 2
}
